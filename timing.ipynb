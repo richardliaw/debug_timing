{
 "cells": [
  {
   "cell_type": "markdown",
   "metadata": {},
   "source": [
    "## May 25"
   ]
  },
  {
   "cell_type": "markdown",
   "metadata": {
    "collapsed": true
   },
   "source": [
    "### 4 Workers - 2k\n",
    "```\n",
    "Total time: 63.3947 s\n",
    "File: driver.py\n",
    "Function: loop at line 84\n",
    "\n",
    "Line #      Hits         Time  Per Hit   % Time  Line Contents\n",
    "==============================================================\n",
    "    84                                           def loop(gradient_list, agents, policy, obs):\n",
    "    85      2000     24643476  12321.7     38.9    done_id, gradient_list = ray.wait(gradient_list)\n",
    "    86      2000      1156424    578.2      1.8    gradient, info = ray.get(done_id)[0]\n",
    "    87      2000     17603607   8801.8     27.8    policy.model_update(gradient)\n",
    "    88      2000     13001821   6500.9     20.5    parameters = policy.get_weights()\n",
    "    89      2000         8102      4.1      0.0    obs += info[\"size\"]\n",
    "    90      2000         3302      1.7      0.0    gradient_list.extend(\n",
    "    91      2000      6971625   3485.8     11.0        [agents[info[\"id\"]].compute_gradient.remote(parameters)])\n",
    "    92      2000         6356      3.2      0.0    return gradient_list, policy, obs\n",
    "```"
   ]
  },
  {
   "cell_type": "markdown",
   "metadata": {},
   "source": [
    "### 6 Workers - 2k\n",
    "```\n",
    "Total time: 44.9174 s\n",
    "File: driver.py\n",
    "Function: loop at line 84\n",
    "\n",
    "Line #      Hits         Time  Per Hit   % Time  Line Contents\n",
    "==============================================================\n",
    "    84                                           def loop(gradient_list, agents, policy, obs):\n",
    "    85      2000      5878504   2939.3     13.1    done_id, gradient_list = ray.wait(gradient_list)\n",
    "    86      2000      1071400    535.7      2.4    gradient, info = ray.get(done_id)[0]\n",
    "    87      2000     17434119   8717.1     38.8    policy.model_update(gradient)\n",
    "    88      2000     13244879   6622.4     29.5    parameters = policy.get_weights()\n",
    "    89      2000         8148      4.1      0.0    obs += info[\"size\"]\n",
    "    90      2000         3515      1.8      0.0    gradient_list.extend(\n",
    "    91      2000      7270216   3635.1     16.2        [agents[info[\"id\"]].compute_gradient.remote(parameters)])\n",
    "    92      2000         6603      3.3      0.0    return gradient_list, policy, obs\n",
    "```"
   ]
  },
  {
   "cell_type": "markdown",
   "metadata": {},
   "source": [
    "### 8 Workers - 2k\n",
    "```\n",
    "Total time: 41.5075 s\n",
    "File: driver.py\n",
    "Function: loop at line 84\n",
    "\n",
    "Line #      Hits         Time  Per Hit   % Time  Line Contents\n",
    "==============================================================\n",
    "    84                                           def loop(gradient_list, agents, policy, obs):\n",
    "    85      2000      3292527   1646.3      7.9    done_id, gradient_list = ray.wait(gradient_list)\n",
    "    86      2000      1038751    519.4      2.5    gradient, info = ray.get(done_id)[0]\n",
    "    87      2000     17578994   8789.5     42.4    policy.model_update(gradient)\n",
    "    88      2000     13063674   6531.8     31.5    parameters = policy.get_weights()\n",
    "    89      2000         8672      4.3      0.0    obs += info[\"size\"]\n",
    "    90      2000         3252      1.6      0.0    gradient_list.extend(\n",
    "    91      2000      6514969   3257.5     15.7        [agents[info[\"id\"]].compute_gradient.remote(parameters)])\n",
    "    92      2000         6698      3.3      0.0    return gradient_list, policy, obs\n",
    "```"
   ]
  },
  {
   "cell_type": "markdown",
   "metadata": {},
   "source": [
    "### 12 Workers - 2k\n",
    "```\n",
    "Total time: 41.8668 s\n",
    "File: driver.py\n",
    "Function: loop at line 84\n",
    "\n",
    "Line #      Hits         Time  Per Hit   % Time  Line Contents\n",
    "==============================================================\n",
    "    84                                           def loop(gradient_list, agents, policy, obs):\n",
    "    85      2000      3160246   1580.1      7.5    done_id, gradient_list = ray.wait(gradient_list)\n",
    "    86      2000      1051450    525.7      2.5    gradient, info = ray.get(done_id)[0]\n",
    "    87      2000     17711030   8855.5     42.3    policy.model_update(gradient)\n",
    "    88      2000     13322075   6661.0     31.8    parameters = policy.get_weights()\n",
    "    89      2000        10412      5.2      0.0    obs += info[\"size\"]\n",
    "    90      2000         3703      1.9      0.0    gradient_list.extend(\n",
    "    91      2000      6600674   3300.3     15.8        [agents[info[\"id\"]].compute_gradient.remote(parameters)])\n",
    "    92      2000         7195      3.6      0.0    return gradient_list, policy, obs\n",
    "```"
   ]
  },
  {
   "cell_type": "markdown",
   "metadata": {},
   "source": [
    "# With Async Update and Cached Params"
   ]
  },
  {
   "cell_type": "markdown",
   "metadata": {},
   "source": [
    "## 8 Workers - 2k, if active threads > 8, sleep(0.005)\n",
    "```\n",
    "Total time: 36.2112 s\n",
    "File: driver.py\n",
    "Function: loop at line 91\n",
    "\n",
    "Line #      Hits         Time  Per Hit   % Time  Line Contents\n",
    "==============================================================\n",
    "    91                                           def loop(gradient_list, agents, policy, obs):\n",
    "    92      2000     16848810   8424.4     46.5    done_id, gradient_list = ray.wait(gradient_list)\n",
    "    93      2000      2340148   1170.1      6.5    gradient, info = ray.get(done_id)[0]\n",
    "    94      2000      6537626   3268.8     18.1    policy.async_model_update(gradient)\n",
    "    95                                             # policy.model_update(gradient)\n",
    "    96      2000        16720      8.4      0.0    parameters = policy.get_weights(cached=True)\n",
    "    97      2000         6757      3.4      0.0    obs += info[\"size\"]\n",
    "    98      2000         3782      1.9      0.0    gradient_list.extend(\n",
    "    99      2000     10438515   5219.3     28.8        [agents[info[\"id\"]].compute_gradient.remote(parameters)])\n",
    "   100      2000        18850      9.4      0.1    return gradient_list, policy, obs\n",
    "```"
   ]
  },
  {
   "cell_type": "markdown",
   "metadata": {},
   "source": [
    "## 8 Workers - 2k, No Sleep\n",
    "```\n",
    "Total time: 37.5062 s\n",
    "File: driver.py\n",
    "Function: loop at line 91\n",
    "\n",
    "Line #      Hits         Time  Per Hit   % Time  Line Contents\n",
    "==============================================================\n",
    "    91                                           def loop(gradient_list, agents, policy, obs):\n",
    "    92      2000     10666555   5333.3     28.4    done_id, gradient_list = ray.wait(gradient_list)\n",
    "    93      2000      3885365   1942.7     10.4    gradient, info = ray.get(done_id)[0]\n",
    "    94      2000      7443719   3721.9     19.8    policy.async_model_update(gradient)\n",
    "    95                                             # policy.model_update(gradient)\n",
    "    96      2000        17382      8.7      0.0    parameters = policy.get_weights(cached=True)\n",
    "    97      2000         6921      3.5      0.0    obs += info[\"size\"]\n",
    "    98      2000         4146      2.1      0.0    gradient_list.extend(\n",
    "    99      2000     15457712   7728.9     41.2        [agents[info[\"id\"]].compute_gradient.remote(parameters)])\n",
    "   100      2000        24442     12.2      0.1    return gradient_list, policy, obs\n",
    "```"
   ]
  },
  {
   "cell_type": "markdown",
   "metadata": {},
   "source": [
    "## 8 Workers - 2k, if workers > 5, sleep(0.005)\n",
    "```\n",
    "\n",
    "Total time: 35.8851 s\n",
    "File: driver.py\n",
    "Function: loop at line 91\n",
    "\n",
    "Line #      Hits         Time  Per Hit   % Time  Line Contents\n",
    "==============================================================\n",
    "    91                                           def loop(gradient_list, agents, policy, obs):\n",
    "    92      2000     17587025   8793.5     49.0    done_id, gradient_list = ray.wait(gradient_list)\n",
    "    93      2000      1861259    930.6      5.2    gradient, info = ray.get(done_id)[0]\n",
    "    94      2000      8357922   4179.0     23.3    policy.async_model_update(gradient)\n",
    "    95                                             # policy.model_update(gradient)\n",
    "    96      2000        16903      8.5      0.0    parameters = policy.get_weights(cached=True)\n",
    "    97      2000         6694      3.3      0.0    obs += info[\"size\"]\n",
    "    98      2000         3976      2.0      0.0    gradient_list.extend(\n",
    "    99      2000      8040989   4020.5     22.4        [agents[info[\"id\"]].compute_gradient.remote(parameters)])\n",
    "   100      2000        10368      5.2      0.0    return gradient_list, policy, obs\n",
    "```"
   ]
  },
  {
   "cell_type": "markdown",
   "metadata": {},
   "source": [
    "## 16 Workers - 2k, if workers > 5, sleep(0.005)\n",
    "```\n",
    "\n",
    "Total time: 37.7385 s\n",
    "File: driver.py\n",
    "Function: loop at line 91\n",
    "\n",
    "Line #      Hits         Time  Per Hit   % Time  Line Contents\n",
    "==============================================================\n",
    "    91                                           def loop(gradient_list, agents, policy, obs):\n",
    "    92      2000      4787213   2393.6     12.7    done_id, gradient_list = ray.wait(gradient_list)\n",
    "    93      2000      2343770   1171.9      6.2    gradient, info = ray.get(done_id)[0]\n",
    "    94      2000     16919993   8460.0     44.8    policy.async_model_update(gradient)\n",
    "    95                                             # policy.model_update(gradient)\n",
    "    96      2000        21810     10.9      0.1    parameters = policy.get_weights(cached=True)\n",
    "    97      2000         7531      3.8      0.0    obs += info[\"size\"]\n",
    "    98      2000         4347      2.2      0.0    gradient_list.extend(\n",
    "    99      2000     13639312   6819.7     36.1        [agents[info[\"id\"]].compute_gradient.remote(parameters)])\n",
    "   100      2000        14545      7.3      0.0    return gradient_list, policy, obs\n",
    "```"
   ]
  },
  {
   "cell_type": "markdown",
   "metadata": {},
   "source": [
    "## 16 Workers - 2k, while workers > 5, sleep(0.005)\n",
    "```\n",
    "Total time: 32.5545 s\n",
    "File: driver.py\n",
    "Function: loop at line 91\n",
    "\n",
    "Line #      Hits         Time  Per Hit   % Time  Line Contents\n",
    "==============================================================\n",
    "    91                                           def loop(gradient_list, agents, policy, obs):\n",
    "    92      2000      5588469   2794.2     17.2    done_id, gradient_list = ray.wait(gradient_list)\n",
    "    93      2000      3198897   1599.4      9.8    gradient, info = ray.get(done_id)[0]\n",
    "    94      2000     15774307   7887.2     48.5    policy.async_model_update(gradient)\n",
    "    95                                             # policy.model_update(gradient)\n",
    "    96      2000        19399      9.7      0.1    parameters = policy.get_weights(cached=True)\n",
    "    97      2000         7332      3.7      0.0    obs += info[\"size\"]\n",
    "    98      2000         4206      2.1      0.0    gradient_list.extend(\n",
    "    99      2000      7946438   3973.2     24.4        [agents[info[\"id\"]].compute_gradient.remote(parameters)])\n",
    "   100      2000        15470      7.7      0.0    return gradient_list, policy, obs\n",
    "```"
   ]
  },
  {
   "cell_type": "code",
   "execution_count": null,
   "metadata": {
    "collapsed": true
   },
   "outputs": [],
   "source": []
  }
 ],
 "metadata": {
  "kernelspec": {
   "display_name": "Python 3",
   "language": "python",
   "name": "python3"
  },
  "language_info": {
   "codemirror_mode": {
    "name": "ipython",
    "version": 3
   },
   "file_extension": ".py",
   "mimetype": "text/x-python",
   "name": "python",
   "nbconvert_exporter": "python",
   "pygments_lexer": "ipython3",
   "version": "3.5.3"
  }
 },
 "nbformat": 4,
 "nbformat_minor": 2
}
