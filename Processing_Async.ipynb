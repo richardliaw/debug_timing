{
 "cells": [
  {
   "cell_type": "code",
   "execution_count": 12,
   "metadata": {},
   "outputs": [],
   "source": [
    "import pickle\n",
    "import numpy as np\n",
    "import pandas as pd"
   ]
  },
  {
   "cell_type": "code",
   "execution_count": 15,
   "metadata": {
    "collapsed": true
   },
   "outputs": [],
   "source": [
    "def process_data(fname):\n",
    "    with open(fname, 'rb') as f:\n",
    "        data = pickle.load(f)\n",
    "    data = np.array(data)\n",
    "    data = data.reshape(-1, 13)\n",
    "\n",
    "    df = pd.DataFrame(data)\n",
    "    processed = pd.DataFrame()\n",
    "    \n",
    "    # self.local_weights = {k: v.reshape(self.shapes[k]) for k, v in self.weights.items()} - fetch from ps\n",
    "    processed['reshape_1'] = df[1] - df[0] \n",
    "    \n",
    "    # gradient, info = self.compute_gradient(self.local_weights)\n",
    "    # - compute gradient of data using local weights\n",
    "    processed['compute_2'] = df[8] - df[1] \n",
    "    processed['setweights_2a'] = df[3] - df[1]\n",
    "    processed['readweights_2b'] = df[4] - df[3] # in order to convert array to int32\n",
    "    processed['getprocessbatch_2c'] = df[6] - df[4]\n",
    "    processed['gradient_2d'] = df[7] - df[6]\n",
    "    \n",
    "    \n",
    "    #  self.policy.model_update(gradient) - update local model\n",
    "    processed['update_3'] = df[9] - df[8] \n",
    "    \n",
    "    # new_params = self.policy.get_weights() - get weights from local model\n",
    "    processed['get_weights_4'] = df[10] - df[9] \n",
    "    \n",
    "    # delta = parameter_delta(new_params, self.local_weights) - calculate delta \n",
    "    processed['get_delta_5'] = df[11] - df[10] \n",
    "    \n",
    "    # self.apply_delta(delta) - apply delta to ps\n",
    "    processed['apply_delta_6'] = df[12] - df[11] \n",
    "    return processed"
   ]
  },
  {
   "cell_type": "code",
   "execution_count": 16,
   "metadata": {
    "scrolled": true
   },
   "outputs": [
    {
     "data": {
      "text/plain": [
       "reshape_1             0.000036\n",
       "compute_2             0.138503\n",
       "setweights_2a         0.002937\n",
       "readweights_2b        0.002669\n",
       "getprocessbatch_2c    0.001299\n",
       "gradient_2d           0.130798\n",
       "update_3              0.002715\n",
       "get_weights_4         0.003675\n",
       "get_delta_5           0.000940\n",
       "apply_delta_6         0.019941\n",
       "dtype: float64"
      ]
     },
     "execution_count": 16,
     "metadata": {},
     "output_type": "execute_result"
    }
   ],
   "source": [
    "%matplotlib inline\n",
    "process_data(\"result4.p\").mean() # 4 workers"
   ]
  },
  {
   "cell_type": "code",
   "execution_count": 17,
   "metadata": {},
   "outputs": [
    {
     "data": {
      "text/plain": [
       "reshape_1             0.000045\n",
       "compute_2             0.152315\n",
       "setweights_2a         0.003616\n",
       "readweights_2b        0.003072\n",
       "getprocessbatch_2c    0.001474\n",
       "gradient_2d           0.143213\n",
       "update_3              0.003185\n",
       "get_weights_4         0.004130\n",
       "get_delta_5           0.001116\n",
       "apply_delta_6         0.021451\n",
       "dtype: float64"
      ]
     },
     "execution_count": 17,
     "metadata": {},
     "output_type": "execute_result"
    }
   ],
   "source": [
    "%matplotlib inline\n",
    "process_data(\"result8.p\").mean()"
   ]
  },
  {
   "cell_type": "code",
   "execution_count": 18,
   "metadata": {},
   "outputs": [
    {
     "data": {
      "text/plain": [
       "reshape_1             0.000059\n",
       "compute_2             0.369878\n",
       "setweights_2a         0.004992\n",
       "readweights_2b        0.004049\n",
       "getprocessbatch_2c    0.002705\n",
       "gradient_2d           0.356859\n",
       "update_3              0.004455\n",
       "get_weights_4         0.004890\n",
       "get_delta_5           0.001410\n",
       "apply_delta_6         0.022793\n",
       "dtype: float64"
      ]
     },
     "execution_count": 18,
     "metadata": {},
     "output_type": "execute_result"
    }
   ],
   "source": [
    "process_data(\"result16.p\").mean()"
   ]
  },
  {
   "cell_type": "code",
   "execution_count": 24,
   "metadata": {},
   "outputs": [
    {
     "data": {
      "text/plain": [
       "reshape_1             0.000097\n",
       "compute_2             0.852715\n",
       "setweights_2a         0.007233\n",
       "readweights_2b        0.006035\n",
       "getprocessbatch_2c    0.005785\n",
       "gradient_2d           0.831585\n",
       "update_3              0.006543\n",
       "get_weights_4         0.006389\n",
       "get_delta_5           0.001885\n",
       "apply_delta_6         0.025782\n",
       "dtype: float64"
      ]
     },
     "execution_count": 24,
     "metadata": {},
     "output_type": "execute_result"
    }
   ],
   "source": [
    "process_data(\"result24.p\").mean()"
   ]
  },
  {
   "cell_type": "code",
   "execution_count": 26,
   "metadata": {},
   "outputs": [
    {
     "data": {
      "text/plain": [
       "reshape_1             0.000140\n",
       "compute_2             1.272831\n",
       "setweights_2a         0.010292\n",
       "readweights_2b        0.009344\n",
       "getprocessbatch_2c    0.008818\n",
       "gradient_2d           1.241831\n",
       "update_3              0.009536\n",
       "get_weights_4         0.008906\n",
       "get_delta_5           0.002616\n",
       "apply_delta_6         0.031761\n",
       "dtype: float64"
      ]
     },
     "execution_count": 26,
     "metadata": {},
     "output_type": "execute_result"
    }
   ],
   "source": [
    "process_data(\"result32.p\").mean()"
   ]
  },
  {
   "cell_type": "code",
   "execution_count": 2,
   "metadata": {},
   "outputs": [
    {
     "name": "stdout",
     "output_type": "stream",
     "text": [
      "Fetching package metadata .........\n",
      "Solving package specifications: .\n",
      "\n",
      "Package plan for installation in environment /home/ubuntu/miniconda3/envs/ray:\n",
      "\n",
      "The following NEW packages will be INSTALLED:\n",
      "\n",
      "    pandas: 0.20.2-np113py36_0\n",
      "    pytz:   2017.2-py36_0     \n",
      "\n",
      "Proceed ([y]/n)? ^C\n"
     ]
    }
   ],
   "source": [
    "! conda install pandas"
   ]
  },
  {
   "cell_type": "code",
   "execution_count": 3,
   "metadata": {},
   "outputs": [
    {
     "ename": "NameError",
     "evalue": "name 'y' is not defined",
     "output_type": "error",
     "traceback": [
      "\u001b[0;31m---------------------------------------------------------------------------\u001b[0m",
      "\u001b[0;31mNameError\u001b[0m                                 Traceback (most recent call last)",
      "\u001b[0;32m<ipython-input-3-009520053b00>\u001b[0m in \u001b[0;36m<module>\u001b[0;34m()\u001b[0m\n\u001b[0;32m----> 1\u001b[0;31m \u001b[0my\u001b[0m\u001b[0;34m\u001b[0m\u001b[0m\n\u001b[0m",
      "\u001b[0;31mNameError\u001b[0m: name 'y' is not defined"
     ]
    }
   ],
   "source": [
    "!y"
   ]
  },
  {
   "cell_type": "code",
   "execution_count": null,
   "metadata": {
    "collapsed": true
   },
   "outputs": [],
   "source": []
  }
 ],
 "metadata": {
  "kernelspec": {
   "display_name": "Python 3",
   "language": "python",
   "name": "python3"
  },
  "language_info": {
   "codemirror_mode": {
    "name": "ipython",
    "version": 3
   },
   "file_extension": ".py",
   "mimetype": "text/x-python",
   "name": "python",
   "nbconvert_exporter": "python",
   "pygments_lexer": "ipython3",
   "version": "3.6.1"
  }
 },
 "nbformat": 4,
 "nbformat_minor": 2
}
