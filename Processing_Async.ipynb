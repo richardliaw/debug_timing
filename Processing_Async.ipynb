{
 "cells": [
  {
   "cell_type": "code",
   "execution_count": 20,
   "metadata": {
    "collapsed": true
   },
   "outputs": [],
   "source": [
    "import pickle\n",
    "import numpy as np\n",
    "import pandas as pd"
   ]
  },
  {
   "cell_type": "code",
   "execution_count": 37,
   "metadata": {},
   "outputs": [],
   "source": [
    "def process_data(fname):\n",
    "    with open(fname, 'rb') as f:\n",
    "        data = pickle.load(f)\n",
    "    data = np.array(data)\n",
    "    data = data.reshape(-1, 7)\n",
    "\n",
    "    df = pd.DataFrame(data)\n",
    "    processed = pd.DataFrame()\n",
    "\n",
    "    processed['reshape_1'] = df[1] - df[0] # self.local_weights = {k: v.reshape(self.shapes[k]) for k, v in self.weights.items()} - fetch from ps\n",
    "    processed['compute_2'] = df[2] - df[1] # gradient, info = self.compute_gradient(self.local_weights) - compute gradient of data using local weights\n",
    "    processed['update_3'] = df[3] - df[2] #  self.policy.model_update(gradient) - update local model\n",
    "    processed['get_weights_4'] = df[4] - df[3] # new_params = self.policy.get_weights() - get weights from local model\n",
    "    processed['get_delta_5'] = df[5] - df[4] # delta = parameter_delta(new_params, self.local_weights) - calculate delta \n",
    "    processed['apply_delta_6'] = df[6] - df[5] # self.apply_delta(delta) - apply delta to ps\n",
    "    return processed"
   ]
  },
  {
   "cell_type": "code",
   "execution_count": 38,
   "metadata": {
    "scrolled": true
   },
   "outputs": [
    {
     "data": {
      "text/plain": [
       "reshape_1        0.000038\n",
       "compute_2        0.126122\n",
       "update_3         0.004232\n",
       "get_weights_4    0.004248\n",
       "get_delta_5      0.001143\n",
       "apply_delta_6    0.020440\n",
       "dtype: float64"
      ]
     },
     "execution_count": 38,
     "metadata": {},
     "output_type": "execute_result"
    }
   ],
   "source": [
    "%matplotlib inline\n",
    "process_data(\"results_4.p\").mean() # 4 workers"
   ]
  },
  {
   "cell_type": "code",
   "execution_count": 39,
   "metadata": {},
   "outputs": [
    {
     "data": {
      "text/plain": [
       "reshape_1        0.000044\n",
       "compute_2        0.145453\n",
       "update_3         0.004830\n",
       "get_weights_4    0.004551\n",
       "get_delta_5      0.001184\n",
       "apply_delta_6    0.021527\n",
       "dtype: float64"
      ]
     },
     "execution_count": 39,
     "metadata": {},
     "output_type": "execute_result"
    }
   ],
   "source": [
    "%matplotlib inline\n",
    "process_data(\"results_8.p\").mean()"
   ]
  },
  {
   "cell_type": "code",
   "execution_count": 40,
   "metadata": {},
   "outputs": [
    {
     "data": {
      "text/plain": [
       "reshape_1        0.000058\n",
       "compute_2        0.198264\n",
       "update_3         0.006140\n",
       "get_weights_4    0.004949\n",
       "get_delta_5      0.001411\n",
       "apply_delta_6    0.023071\n",
       "dtype: float64"
      ]
     },
     "execution_count": 40,
     "metadata": {},
     "output_type": "execute_result"
    }
   ],
   "source": [
    "process_data(\"results_16.p\").mean()"
   ]
  },
  {
   "cell_type": "code",
   "execution_count": 41,
   "metadata": {},
   "outputs": [
    {
     "data": {
      "text/plain": [
       "reshape_1        0.000125\n",
       "compute_2        0.622486\n",
       "update_3         0.013675\n",
       "get_weights_4    0.013691\n",
       "get_delta_5      0.003005\n",
       "apply_delta_6    0.034497\n",
       "dtype: float64"
      ]
     },
     "execution_count": 41,
     "metadata": {},
     "output_type": "execute_result"
    }
   ],
   "source": [
    "process_data(\"results_32.p\").mean()"
   ]
  },
  {
   "cell_type": "code",
   "execution_count": 42,
   "metadata": {},
   "outputs": [
    {
     "data": {
      "text/plain": [
       "<matplotlib.axes._subplots.AxesSubplot at 0x7f5aaf137438>"
      ]
     },
     "execution_count": 42,
     "metadata": {},
     "output_type": "execute_result"
    },
    {
     "data": {
      "image/png": "[encoded data removed]",
      "text/plain": [
       "<matplotlib.figure.Figure at 0x7f5aaf08fcf8>"
      ]
     },
     "metadata": {},
     "output_type": "display_data"
    }
   ],
   "source": [
    "process_data(\"results_32.p\").plot()"
   ]
  },
  {
   "cell_type": "code",
   "execution_count": null,
   "metadata": {
    "collapsed": true
   },
   "outputs": [],
   "source": []
  }
 ],
 "metadata": {
  "kernelspec": {
   "display_name": "Python 3",
   "language": "python",
   "name": "python3"
  },
  "language_info": {
   "codemirror_mode": {
    "name": "ipython",
    "version": 3
   },
   "file_extension": ".py",
   "mimetype": "text/x-python",
   "name": "python",
   "nbconvert_exporter": "python",
   "pygments_lexer": "ipython3",
   "version": "3.5.3"
  }
 },
 "nbformat": 4,
 "nbformat_minor": 2
}
