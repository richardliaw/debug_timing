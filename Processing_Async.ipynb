{
 "cells": [
  {
   "cell_type": "code",
   "execution_count": 1,
   "metadata": {
    "collapsed": true
   },
   "outputs": [],
   "source": [
    "import pickle\n",
    "import numpy as np\n",
    "import pandas as pd"
   ]
  },
  {
   "cell_type": "code",
   "execution_count": 2,
   "metadata": {
    "collapsed": true
   },
   "outputs": [],
   "source": [
    "def process_data(fname):\n",
    "    with open(fname, 'rb') as f:\n",
    "        data = pickle.load(f)\n",
    "    data = np.array(data)\n",
    "    data = data.reshape(-1, 13)\n",
    "\n",
    "    df = pd.DataFrame(data)\n",
    "    processed = pd.DataFrame()\n",
    "    \n",
    "    # self.local_weights = {k: v.reshape(self.shapes[k]) for k, v in self.weights.items()} - fetch from ps\n",
    "    processed['reshape_1'] = df[1] - df[0] \n",
    "    \n",
    "    # gradient, info = self.compute_gradient(self.local_weights)\n",
    "    # - compute gradient of data using local weights\n",
    "    processed['compute_2'] = df[8] - df[1] \n",
    "    processed['setweights_2a'] = df[3] - df[1]\n",
    "    processed['readweights_2b'] = df[4] - df[3] # in order to convert array to int32\n",
    "    processed['getprocessbatch_2c'] = df[6] - df[4]\n",
    "    processed['gradient_2d'] = df[7] - df[6]\n",
    "    \n",
    "    \n",
    "    #  self.policy.model_update(gradient) - update local model\n",
    "    processed['update_3'] = df[9] - df[8] \n",
    "    \n",
    "    # new_params = self.policy.get_weights() - get weights from local model\n",
    "    processed['get_weights_4'] = df[10] - df[9] \n",
    "    \n",
    "    # delta = parameter_delta(new_params, self.local_weights) - calculate delta \n",
    "    processed['get_delta_5'] = df[11] - df[10] \n",
    "    \n",
    "    # self.apply_delta(delta) - apply delta to ps\n",
    "    processed['apply_delta_6'] = df[12] - df[11] \n",
    "    return processed"
   ]
  },
  {
   "cell_type": "code",
   "execution_count": 13,
   "metadata": {
    "scrolled": true
   },
   "outputs": [
    {
     "data": {
      "text/plain": [
       "reshape_1             0.000040\n",
       "compute_2             0.095889\n",
       "setweights_2a         0.003219\n",
       "readweights_2b        0.002782\n",
       "getprocessbatch_2c    0.005970\n",
       "gradient_2d           0.079519\n",
       "update_3              0.004571\n",
       "get_weights_4         0.002868\n",
       "get_delta_5           0.000875\n",
       "apply_delta_6         0.019073\n",
       "dtype: float64"
      ]
     },
     "execution_count": 13,
     "metadata": {},
     "output_type": "execute_result"
    }
   ],
   "source": [
    "%matplotlib inline\n",
    "process_data(\"results4.p\").mean() # 4 workers"
   ]
  },
  {
   "cell_type": "code",
   "execution_count": 14,
   "metadata": {},
   "outputs": [
    {
     "data": {
      "text/plain": [
       "reshape_1             0.000047\n",
       "compute_2             0.102745\n",
       "setweights_2a         0.003786\n",
       "readweights_2b        0.003142\n",
       "getprocessbatch_2c    0.006160\n",
       "gradient_2d           0.084984\n",
       "update_3              0.005173\n",
       "get_weights_4         0.003276\n",
       "get_delta_5           0.000955\n",
       "apply_delta_6         0.019890\n",
       "dtype: float64"
      ]
     },
     "execution_count": 14,
     "metadata": {},
     "output_type": "execute_result"
    }
   ],
   "source": [
    "%matplotlib inline\n",
    "process_data(\"results8.p\").mean()"
   ]
  },
  {
   "cell_type": "code",
   "execution_count": 15,
   "metadata": {},
   "outputs": [
    {
     "data": {
      "text/plain": [
       "reshape_1             0.000055\n",
       "compute_2             0.124401\n",
       "setweights_2a         0.004350\n",
       "readweights_2b        0.003768\n",
       "getprocessbatch_2c    0.002752\n",
       "gradient_2d           0.107912\n",
       "update_3              0.006959\n",
       "get_weights_4         0.004019\n",
       "get_delta_5           0.001100\n",
       "apply_delta_6         0.021894\n",
       "dtype: float64"
      ]
     },
     "execution_count": 15,
     "metadata": {},
     "output_type": "execute_result"
    }
   ],
   "source": [
    "process_data(\"results16.p\").mean()"
   ]
  },
  {
   "cell_type": "code",
   "execution_count": 16,
   "metadata": {},
   "outputs": [
    {
     "data": {
      "text/plain": [
       "reshape_1             0.000067\n",
       "compute_2             0.192324\n",
       "setweights_2a         0.005353\n",
       "readweights_2b        0.005081\n",
       "getprocessbatch_2c    0.002127\n",
       "gradient_2d           0.167880\n",
       "update_3              0.007880\n",
       "get_weights_4         0.005229\n",
       "get_delta_5           0.001450\n",
       "apply_delta_6         0.023680\n",
       "dtype: float64"
      ]
     },
     "execution_count": 16,
     "metadata": {},
     "output_type": "execute_result"
    }
   ],
   "source": [
    "process_data(\"results24.p\").mean()"
   ]
  },
  {
   "cell_type": "code",
   "execution_count": 19,
   "metadata": {},
   "outputs": [
    {
     "data": {
      "text/plain": [
       "reshape_1             0.000091\n",
       "compute_2             0.132887\n",
       "setweights_2a         0.008920\n",
       "readweights_2b        0.010024\n",
       "getprocessbatch_2c    0.014802\n",
       "gradient_2d           0.097838\n",
       "update_3              0.006373\n",
       "get_weights_4         0.007472\n",
       "get_delta_5           0.001890\n",
       "apply_delta_6         0.027565\n",
       "dtype: float64"
      ]
     },
     "execution_count": 19,
     "metadata": {},
     "output_type": "execute_result"
    }
   ],
   "source": [
    "# % matplotlib inline\n",
    "process_data(\"results32.p\").mean()"
   ]
  },
  {
   "cell_type": "code",
   "execution_count": 3,
   "metadata": {
    "collapsed": true
   },
   "outputs": [],
   "source": [
    "data = process_data(\"result32.p\")"
   ]
  },
  {
   "cell_type": "code",
   "execution_count": 20,
   "metadata": {},
   "outputs": [
    {
     "data": {
      "text/plain": [
       "0     0.194462\n",
       "1     0.229068\n",
       "2     0.168161\n",
       "3     0.176721\n",
       "4     0.180070\n",
       "5     0.173822\n",
       "6     0.224570\n",
       "7     0.331842\n",
       "8     0.350848\n",
       "9     0.329707\n",
       "10    0.302813\n",
       "11    0.338679\n",
       "12    0.397838\n",
       "13    0.445083\n",
       "14    0.429889\n",
       "15    0.550731\n",
       "16    0.271793\n",
       "17    0.701484\n",
       "18    0.846831\n",
       "19    0.816606\n",
       "20    0.907008\n",
       "21    1.015965\n",
       "22    0.966878\n",
       "23    1.089365\n",
       "24    1.057447\n",
       "25    1.082668\n",
       "26    1.168724\n",
       "27    1.290541\n",
       "28    1.272135\n",
       "29    1.475962\n",
       "        ...   \n",
       "70    1.493879\n",
       "71    1.300406\n",
       "72    1.260168\n",
       "73    1.373731\n",
       "74    1.353895\n",
       "75    1.241804\n",
       "76    1.365341\n",
       "77    1.524794\n",
       "78    1.498730\n",
       "79    1.591764\n",
       "80    1.471417\n",
       "81    1.405818\n",
       "82    1.355144\n",
       "83    1.473229\n",
       "84    1.402600\n",
       "85    0.305909\n",
       "86    1.251292\n",
       "87    1.373270\n",
       "88    1.358105\n",
       "89    1.432583\n",
       "90    1.505570\n",
       "91    1.497391\n",
       "92    1.639754\n",
       "93    1.557359\n",
       "94    1.397535\n",
       "95    1.492777\n",
       "96    0.691930\n",
       "97    1.510423\n",
       "98    1.404394\n",
       "99    1.515970\n",
       "Name: gradient_2d, Length: 100, dtype: float64"
      ]
     },
     "execution_count": 20,
     "metadata": {},
     "output_type": "execute_result"
    }
   ],
   "source": [
    "% matplotlib inline \n",
    "grad_data = data['gradient_2d']\n",
    "grad_data[:100]"
   ]
  },
  {
   "cell_type": "code",
   "execution_count": 2,
   "metadata": {
    "collapsed": true
   },
   "outputs": [],
   "source": [
    "import json\n",
    "with open(\"./result_16/worker0_101.json\") as f:\n",
    "    data = json.load(f)\n",
    "\n",
    "times = [x['ts'] for x in data['traceEvents'] if 'ts' in x]\n",
    "max(times) - min(times)\n"
   ]
  },
  {
   "cell_type": "code",
   "execution_count": 8,
   "metadata": {},
   "outputs": [
    {
     "data": {
      "text/plain": [
       "1500787799.867843"
      ]
     },
     "execution_count": 8,
     "metadata": {},
     "output_type": "execute_result"
    }
   ],
   "source": [
    "import time\n",
    "time.time()"
   ]
  },
  {
   "cell_type": "code",
   "execution_count": null,
   "metadata": {
    "collapsed": true
   },
   "outputs": [],
   "source": []
  }
 ],
 "metadata": {
  "kernelspec": {
   "display_name": "Python 3",
   "language": "python",
   "name": "python3"
  },
  "language_info": {
   "codemirror_mode": {
    "name": "ipython",
    "version": 3
   },
   "file_extension": ".py",
   "mimetype": "text/x-python",
   "name": "python",
   "nbconvert_exporter": "python",
   "pygments_lexer": "ipython3",
   "version": "3.6.1"
  }
 },
 "nbformat": 4,
 "nbformat_minor": 2
}
